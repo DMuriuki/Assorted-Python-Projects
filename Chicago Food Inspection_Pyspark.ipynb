{
 "cells": [
  {
   "cell_type": "code",
   "execution_count": 46,
   "metadata": {},
   "outputs": [],
   "source": [
    "import pyspark\n",
    "from pyspark.sql import SparkSession\n",
    "spark = SparkSession.builder.getOrCreate()"
   ]
  },
  {
   "cell_type": "code",
   "execution_count": 47,
   "metadata": {},
   "outputs": [],
   "source": [
    "data=spark.read.csv('C:/Users/dicks/Documents/Food_Inspections.csv', header=True, inferSchema=True)"
   ]
  },
  {
   "cell_type": "code",
   "execution_count": 3,
   "metadata": {},
   "outputs": [
    {
     "name": "stdout",
     "output_type": "stream",
     "text": [
      "+-------------+--------------------+--------------------+---------+-------------+-------------+--------------------+-------+-----+-----+---------------+---------------+---------------+--------------------+-----------+------------+--------------------+\n",
      "|Inspection ID|            DBA Name|            AKA Name|License #|Facility Type|         Risk|             Address|   City|State|  Zip|Inspection Date|Inspection Type|        Results|          Violations|   Latitude|   Longitude|            Location|\n",
      "+-------------+--------------------+--------------------+---------+-------------+-------------+--------------------+-------+-----+-----+---------------+---------------+---------------+--------------------+-----------+------------+--------------------+\n",
      "|      2345239|SAORY RESTAURANT,...|SAORY RESTAURANT,...|  2523066|   Restaurant|Risk 1 (High)|2700 S TRUMBULL AVE |CHICAGO|   IL|60623|      11/7/2019|        Canvass|Out of Business|                null|41.84251235|-87.71122481|(-87.711224813848...|\n",
      "|      2345237|    L & M FINE FOODS|    L & M FINE FOODS|  2631146|Grocery Store|Risk 1 (High)|4361-4365 N LINCO...|CHICAGO|   IL|60618|      11/7/2019|        License|           Pass|51. PLUMBING INST...|41.96127036|  -87.683589|(-87.683588997973...|\n",
      "|      2321190|CHICAGO'S FINEST ...|CHICAGO'S FINEST ...|  2694556|   Restaurant|Risk 1 (High)|   234 S WABASH AVE |CHICAGO|   IL|60604|      11/6/2019|        License|           Fail|33. PROPER COOLIN...|41.87867435| -87.6262423|(-87.626242295344...|\n",
      "|      2321198|CHICAGO'S FINEST ...|CHICAGO'S FINEST ...|  2694557|   Restaurant| Risk 3 (Low)|   234 S WABASH AVE |CHICAGO|   IL|60604|      11/6/2019|        License|           Fail|                null|41.87867435| -87.6262423|(-87.626242295344...|\n",
      "|      2321165|           LA HUMITA|           LA HUMITA|  1622351|   Restaurant|Risk 1 (High)|  3466 N PULASKI RD |CHICAGO|   IL|60641|      11/6/2019|        Canvass|       No Entry|                null|41.94467796|-87.72749565|(-87.727495649700...|\n",
      "+-------------+--------------------+--------------------+---------+-------------+-------------+--------------------+-------+-----+-----+---------------+---------------+---------------+--------------------+-----------+------------+--------------------+\n",
      "only showing top 5 rows\n",
      "\n"
     ]
    }
   ],
   "source": [
    "data.show(5)"
   ]
  },
  {
   "cell_type": "code",
   "execution_count": 5,
   "metadata": {},
   "outputs": [
    {
     "name": "stdout",
     "output_type": "stream",
     "text": [
      "root\n",
      " |-- Inspection ID: integer (nullable = true)\n",
      " |-- DBA Name: string (nullable = true)\n",
      " |-- AKA Name: string (nullable = true)\n",
      " |-- License #: integer (nullable = true)\n",
      " |-- Facility Type: string (nullable = true)\n",
      " |-- Risk: string (nullable = true)\n",
      " |-- Address: string (nullable = true)\n",
      " |-- City: string (nullable = true)\n",
      " |-- State: string (nullable = true)\n",
      " |-- Zip: integer (nullable = true)\n",
      " |-- Inspection Date: string (nullable = true)\n",
      " |-- Inspection Type: string (nullable = true)\n",
      " |-- Results: string (nullable = true)\n",
      " |-- Violations: string (nullable = true)\n",
      " |-- Latitude: double (nullable = true)\n",
      " |-- Longitude: double (nullable = true)\n",
      " |-- Location: string (nullable = true)\n",
      "\n"
     ]
    }
   ],
   "source": [
    "data.printSchema()"
   ]
  },
  {
   "cell_type": "code",
   "execution_count": 6,
   "metadata": {},
   "outputs": [],
   "source": [
    "#Converting Latitude and Longitude to string type\n",
    "#Converting inspection date into datetime object\n",
    "from pyspark.sql.types import StringType\n",
    "data= data.withColumn(\"Longitude\", data[\"Longitude\"].cast(StringType()))\n",
    "data= data.withColumn(\"Latitude\", data[\"Latitude\"].cast(StringType()))"
   ]
  },
  {
   "cell_type": "code",
   "execution_count": 7,
   "metadata": {
    "scrolled": true
   },
   "outputs": [
    {
     "name": "stdout",
     "output_type": "stream",
     "text": [
      "root\n",
      " |-- Inspection ID: integer (nullable = true)\n",
      " |-- DBA Name: string (nullable = true)\n",
      " |-- AKA Name: string (nullable = true)\n",
      " |-- License #: integer (nullable = true)\n",
      " |-- Facility Type: string (nullable = true)\n",
      " |-- Risk: string (nullable = true)\n",
      " |-- Address: string (nullable = true)\n",
      " |-- City: string (nullable = true)\n",
      " |-- State: string (nullable = true)\n",
      " |-- Zip: integer (nullable = true)\n",
      " |-- Inspection Date: date (nullable = true)\n",
      " |-- Inspection Type: string (nullable = true)\n",
      " |-- Results: string (nullable = true)\n",
      " |-- Violations: string (nullable = true)\n",
      " |-- Latitude: string (nullable = true)\n",
      " |-- Longitude: string (nullable = true)\n",
      " |-- Location: string (nullable = true)\n",
      "\n"
     ]
    }
   ],
   "source": [
    "#Changing Date column to datetime format and printing the dataframe schema\n",
    "import pyspark.sql.functions as f\n",
    "data=(data.withColumn('Inspection Date', f.to_date('Inspection Date','MM/d/yyyy')\n",
    "                     )\n",
    "     )\n",
    "data.printSchema()"
   ]
  },
  {
   "cell_type": "markdown",
   "metadata": {},
   "source": [
    "#### Exploratory Analysis: SQL Transformations"
   ]
  },
  {
   "cell_type": "code",
   "execution_count": 8,
   "metadata": {},
   "outputs": [],
   "source": [
    "data.createOrReplaceTempView('data_view')\n"
   ]
  },
  {
   "cell_type": "code",
   "execution_count": 9,
   "metadata": {},
   "outputs": [
    {
     "name": "stdout",
     "output_type": "stream",
     "text": [
      "+------+--------------------+\n",
      "| Count|             Results|\n",
      "+------+--------------------+\n",
      "|105796|                Pass|\n",
      "| 37868|                Fail|\n",
      "| 27106|  Pass w/ Conditions|\n",
      "| 16847|     Out of Business|\n",
      "|  6234|            No Entry|\n",
      "|  1877|           Not Ready|\n",
      "|    68|Business Not Located|\n",
      "+------+--------------------+\n",
      "\n"
     ]
    }
   ],
   "source": [
    "#Count of number of inspected facilities per result category\n",
    "(spark.sql('''\n",
    "SELECT COUNT(Results) AS Count, Results FROM data_view GROUP BY Results ORDER BY Count DESC\n",
    "''').show()\n",
    ")"
   ]
  },
  {
   "cell_type": "code",
   "execution_count": 10,
   "metadata": {},
   "outputs": [
    {
     "name": "stdout",
     "output_type": "stream",
     "text": [
      "+--------------------+---------------+\n",
      "|Number_of_Facilities|           Risk|\n",
      "+--------------------+---------------+\n",
      "|              140384|  Risk 1 (High)|\n",
      "|               38227|Risk 2 (Medium)|\n",
      "|               17082|   Risk 3 (Low)|\n",
      "|                  73|           null|\n",
      "|                  30|            All|\n",
      "+--------------------+---------------+\n",
      "\n"
     ]
    }
   ],
   "source": [
    "#Count of number of restaurants per result category\n",
    "(spark.sql('''\n",
    "SELECT COUNT(*) AS Number_of_Facilities, Risk FROM data_view GROUP BY Risk ORDER BY Number_of_Facilities DESC\n",
    "''').show()\n",
    ")"
   ]
  },
  {
   "cell_type": "code",
   "execution_count": 11,
   "metadata": {},
   "outputs": [
    {
     "name": "stdout",
     "output_type": "stream",
     "text": [
      "+--------------------+--------------------+\n",
      "|Number_of_Facilities|          Violations|\n",
      "+--------------------+--------------------+\n",
      "|               51934|                null|\n",
      "|                  11|32. FOOD AND NON-...|\n",
      "|                  10|45. FOOD HANDLER ...|\n",
      "|                  10|30. FOOD IN ORIGI...|\n",
      "|                   7|45. FOOD HANDLER ...|\n",
      "|                   7|2. FACILITIES TO ...|\n",
      "|                   7|3. MANAGEMENT, FO...|\n",
      "|                   7|32. FOOD AND NON-...|\n",
      "|                   6|3. MANAGEMENT, FO...|\n",
      "|                   6|40. REFRIGERATION...|\n",
      "|                   6|38. VENTILATION: ...|\n",
      "|                   5|41. PREMISES MAIN...|\n",
      "|                   5|2. FACILITIES TO ...|\n",
      "|                   5|45. FOOD HANDLER ...|\n",
      "|                   5|2. FACILITIES TO ...|\n",
      "+--------------------+--------------------+\n",
      "\n"
     ]
    }
   ],
   "source": [
    "# Top 10 Violation offences in Chicago\n",
    "(spark.sql('''\n",
    "SELECT COUNT(*) AS Number_of_Facilities, Violations FROM data_view GROUP BY Violations ORDER BY Number_of_Facilities DESC LIMIT 15\n",
    "''').show()\n",
    ")"
   ]
  },
  {
   "cell_type": "code",
   "execution_count": 12,
   "metadata": {},
   "outputs": [
    {
     "name": "stdout",
     "output_type": "stream",
     "text": [
      "+---------------+------------------+--------------------+\n",
      "|           Risk|           Results|Number_of_Facilities|\n",
      "+---------------+------------------+--------------------+\n",
      "|  Risk 1 (High)|              Pass|               77869|\n",
      "|  Risk 1 (High)|              Fail|               26753|\n",
      "|  Risk 1 (High)|Pass w/ Conditions|               21112|\n",
      "|Risk 2 (Medium)|              Pass|               20536|\n",
      "|Risk 2 (Medium)|              Fail|                7352|\n",
      "|Risk 2 (Medium)|Pass w/ Conditions|                5088|\n",
      "|   Risk 3 (Low)|              Pass|                7379|\n",
      "|   Risk 3 (Low)|              Fail|                3736|\n",
      "|   Risk 3 (Low)|Pass w/ Conditions|                 906|\n",
      "+---------------+------------------+--------------------+\n",
      "\n"
     ]
    }
   ],
   "source": [
    "(spark.sql('''\n",
    "SELECT Risk, Results, COUNT(*) AS Number_of_Facilities FROM data_view\n",
    "WHERE Results IN ('Pass', 'Pass w/ Conditions', 'Fail') AND Risk NOT IN ('null','All')\n",
    "GROUP BY Risk, Results ORDER BY Risk, Number_of_Facilities DESC \n",
    "''').show()\n",
    ")"
   ]
  },
  {
   "cell_type": "code",
   "execution_count": 13,
   "metadata": {},
   "outputs": [
    {
     "name": "stdout",
     "output_type": "stream",
     "text": [
      "+--------------------+--------------------+\n",
      "|       Facility Type|Number_of_Facilities|\n",
      "+--------------------+--------------------+\n",
      "|          Restaurant|              130520|\n",
      "|       Grocery Store|               24936|\n",
      "|              School|               12110|\n",
      "|Children's Servic...|                3077|\n",
      "|              Bakery|                2868|\n",
      "|Daycare (2 - 6 Ye...|                2690|\n",
      "|Daycare Above and...|                2369|\n",
      "|      Long Term Care|                1349|\n",
      "|            Catering|                1192|\n",
      "|Mobile Food Dispe...|                 869|\n",
      "|              Liquor|                 856|\n",
      "|  Daycare Combo 1586|                 751|\n",
      "|Mobile Food Preparer|                 631|\n",
      "|        Golden Diner|                 568|\n",
      "|            Hospital|                 548|\n",
      "|           Wholesale|                 535|\n",
      "|              TAVERN|                 282|\n",
      "|Daycare (Under 2 ...|                 250|\n",
      "|       Special Event|                 218|\n",
      "|Shared Kitchen Us...|                 199|\n",
      "+--------------------+--------------------+\n",
      "only showing top 20 rows\n",
      "\n"
     ]
    }
   ],
   "source": [
    "#Count of Facilities Inspected excluding the null values\n",
    "(spark.sql('''\n",
    "SELECT `Facility Type`, COUNT(*) AS Number_of_Facilities FROM data_view\n",
    "WHERE `Facility Type` NOT IN (\"null\")\n",
    "GROUP BY `Facility Type` ORDER BY Number_of_Facilities DESC \n",
    "''').show()\n",
    ")"
   ]
  },
  {
   "cell_type": "markdown",
   "metadata": {},
   "source": [
    "### Feature Engineering & Model Fitting"
   ]
  },
  {
   "cell_type": "code",
   "execution_count": 35,
   "metadata": {
    "scrolled": true
   },
   "outputs": [
    {
     "name": "stdout",
     "output_type": "stream",
     "text": [
      "+--------------------+---------------+--------------------+-------+\n",
      "|            DBA Name|           Risk|          Violations|Results|\n",
      "+--------------------+---------------+--------------------+-------+\n",
      "|    L & M FINE FOODS|  Risk 1 (High)|51. PLUMBING INST...|   Pass|\n",
      "|CHICAGO'S FINEST ...|  Risk 1 (High)|33. PROPER COOLIN...|   Fail|\n",
      "|CHICAGO'S FINEST ...|   Risk 3 (Low)|                null|   Fail|\n",
      "|       NOMAD-CHICAGO|Risk 2 (Medium)|                null|   Pass|\n",
      "|           STARBUCKS|Risk 2 (Medium)|                null|   Pass|\n",
      "+--------------------+---------------+--------------------+-------+\n",
      "only showing top 5 rows\n",
      "\n"
     ]
    }
   ],
   "source": [
    "#Filtering data: filtering out those food joints whose results were neither pass, pass with conditions or fail\n",
    "dat=data.filter('Results IN (\"Fail\",\"Pass\",\"Pass w/ Conditions\")').select('DBA Name','Risk','Violations','Results')\n",
    "dat.show(5)\n",
    " "
   ]
  },
  {
   "cell_type": "code",
   "execution_count": 48,
   "metadata": {},
   "outputs": [],
   "source": [
    "from pyspark.sql.functions import UserDefinedFunction\n",
    "\"\"\"Converting the existing dataframe(df) into a new dataframe where each inspection is represented as a label-violations pair. \n",
    "In this case, a label of 0.0 represents a failure, a label of 1.0 represents a success, \n",
    "and a label of -1.0 represents some results besides those two\"\"\"\n",
    "def labelForResults(s):\n",
    "    if s == 'Fail':\n",
    "        return 0.0\n",
    "    elif s == 'Pass w/ Conditions' or s == 'Pass':\n",
    "        return 1.0\n",
    "    else:\n",
    "        return -1.0\n",
    "label = UserDefinedFunction(labelForResults, DoubleType())\n",
    "labeledData = data.select(label(data.Results).alias('label'), data.Violations).where('label >= 0')"
   ]
  },
  {
   "cell_type": "code",
   "execution_count": 49,
   "metadata": {},
   "outputs": [
    {
     "data": {
      "text/plain": [
       "[Row(label=1.0, Violations='51. PLUMBING INSTALLED; PROPER BACKFLOW DEVICES - Comments: 3-COMPARTMENT SINK STOPPERS NOT WORKING ALSO OBSERVED 1ST FLOOR PREP AREA HANDWASH BOWL FAUCET LEAKING. MUST PROVIDE WORKING STOPPERS (X3) FOR 3-COMPARTMENT SINK AND MAINTAIN 1ST FLOOR HANDWASH BOWL.')]"
      ]
     },
     "execution_count": 49,
     "metadata": {},
     "output_type": "execute_result"
    }
   ],
   "source": [
    "#Let's view one row of the labeled data\n",
    "labeledData.take(1)"
   ]
  },
  {
   "cell_type": "code",
   "execution_count": 50,
   "metadata": {},
   "outputs": [
    {
     "name": "stdout",
     "output_type": "stream",
     "text": [
      "127546\n",
      "43224\n"
     ]
    }
   ],
   "source": [
    "#Splitting into Train and Test Data \n",
    "training_df,test_df=labeledData.randomSplit([0.75,0.25])\n",
    "print(training_df.count()) \n",
    "print(test_df.count())"
   ]
  },
  {
   "cell_type": "markdown",
   "metadata": {},
   "source": [
    "##### The final task is to convert the labeled data into a format that can be analyzed by logistic regression. The input to a logistic regression algorithm needs be a set of label-feature vector pairs, where the \"feature vector\" is a vector of numbers representing the input point. \n",
    "\n",
    "##### So, we need to convert the \"violations\" column, which is semi-structured and contains many comments in text format, to an array of real numbers that a machine could understand.\n",
    "\n",
    "##### One standard machine learning approach for processing natural language is to assign each distinct word an \"index\", and then pass a vector to the machine learning algorithm such that each index's value contains the relative frequency of that word in the text string\n",
    "\n",
    "##### MLlib provides an easy way to perform this operation. First, we tokenize each violations string to get the individual words in each string. Then, use a HashingTF to convert each set of tokens into a feature vector that can then be passed to the Machine Leraning algorithm to construct a model. We conduct all of these steps in sequence using a \"pipeline\"."
   ]
  },
  {
   "cell_type": "code",
   "execution_count": 53,
   "metadata": {},
   "outputs": [
    {
     "ename": "AttributeError",
     "evalue": "'Tokenizer' object has no attribute 'getoutputCol'",
     "output_type": "error",
     "traceback": [
      "\u001b[1;31m---------------------------------------------------------------------------\u001b[0m",
      "\u001b[1;31mAttributeError\u001b[0m                            Traceback (most recent call last)",
      "\u001b[1;32m<ipython-input-53-b5da203f2714>\u001b[0m in \u001b[0;36m<module>\u001b[1;34m\u001b[0m\n\u001b[0;32m      4\u001b[0m \u001b[1;33m\u001b[0m\u001b[0m\n\u001b[0;32m      5\u001b[0m \u001b[0mtokenizer\u001b[0m \u001b[1;33m=\u001b[0m \u001b[0mTokenizer\u001b[0m\u001b[1;33m(\u001b[0m\u001b[0minputCol\u001b[0m\u001b[1;33m=\u001b[0m\u001b[1;34m\"Violations\"\u001b[0m\u001b[1;33m,\u001b[0m \u001b[0moutputCol\u001b[0m\u001b[1;33m=\u001b[0m\u001b[1;34m\"words\"\u001b[0m\u001b[1;33m)\u001b[0m\u001b[1;33m\u001b[0m\u001b[1;33m\u001b[0m\u001b[0m\n\u001b[1;32m----> 6\u001b[1;33m \u001b[0mhashingTF\u001b[0m \u001b[1;33m=\u001b[0m \u001b[0mHashingTF\u001b[0m\u001b[1;33m(\u001b[0m\u001b[0minputCol\u001b[0m\u001b[1;33m=\u001b[0m\u001b[0mtokenizer\u001b[0m\u001b[1;33m.\u001b[0m\u001b[0mgetoutputCol\u001b[0m\u001b[1;33m(\u001b[0m\u001b[1;33m)\u001b[0m\u001b[1;33m,\u001b[0m \u001b[0moutputCol\u001b[0m\u001b[1;33m=\u001b[0m\u001b[1;34m\"features\"\u001b[0m\u001b[1;33m)\u001b[0m\u001b[1;33m\u001b[0m\u001b[1;33m\u001b[0m\u001b[0m\n\u001b[0m\u001b[0;32m      7\u001b[0m \u001b[0mlr\u001b[0m \u001b[1;33m=\u001b[0m \u001b[0mLogisticRegression\u001b[0m\u001b[1;33m(\u001b[0m\u001b[0mmaxIter\u001b[0m\u001b[1;33m=\u001b[0m\u001b[1;36m10\u001b[0m\u001b[1;33m,\u001b[0m \u001b[0mregParam\u001b[0m\u001b[1;33m=\u001b[0m\u001b[1;36m0.01\u001b[0m\u001b[1;33m)\u001b[0m\u001b[1;33m\u001b[0m\u001b[1;33m\u001b[0m\u001b[0m\n\u001b[0;32m      8\u001b[0m \u001b[0mpipeline\u001b[0m \u001b[1;33m=\u001b[0m \u001b[0mPipeline\u001b[0m\u001b[1;33m(\u001b[0m\u001b[0mstages\u001b[0m\u001b[1;33m=\u001b[0m\u001b[1;33m[\u001b[0m\u001b[0mtokenizer\u001b[0m\u001b[1;33m,\u001b[0m \u001b[0mhashingTF\u001b[0m\u001b[1;33m,\u001b[0m \u001b[0mlr\u001b[0m\u001b[1;33m]\u001b[0m\u001b[1;33m)\u001b[0m\u001b[1;33m\u001b[0m\u001b[1;33m\u001b[0m\u001b[0m\n",
      "\u001b[1;31mAttributeError\u001b[0m: 'Tokenizer' object has no attribute 'getoutputCol'"
     ]
    }
   ],
   "source": [
    "from pyspark.ml import Pipeline\n",
    "from pyspark.ml.classification import LogisticRegression\n",
    "from pyspark.ml.feature import HashingTF, Tokenizer\n",
    "\n",
    "tokenizer = Tokenizer(inputCol=\"Violations\", outputCol=\"words\")\n",
    "hashingTF = HashingTF(inputCol=tokenizer.getOutputCol(), outputCol=\"features\")\n",
    "lr = LogisticRegression(maxIter=10, regParam=0.01)\n",
    "pipeline = Pipeline(stages=[tokenizer, hashingTF, lr])\n",
    "model = pipeline.fit(labeledData)"
   ]
  },
  {
   "cell_type": "code",
   "execution_count": 40,
   "metadata": {},
   "outputs": [
    {
     "data": {
      "text/plain": [
       "['Risk 1 (High)', 'Risk 2 (Medium)', 'Risk 3 (Low)', 'All']"
      ]
     },
     "execution_count": 40,
     "metadata": {},
     "output_type": "execute_result"
    }
   ],
   "source": [
    "\n",
    "from pyspark.ml.feature import Bucketizer, StringIndexer, VectorAssembler, IndexToString\n",
    "risk_idx = StringIndexer(inputCol = \"Risk\", outputCol=\"Risk_idx\",handleInvalid=\"keep\")\n",
    "label_idx = StringIndexer(inputCol=\"Results\", outputCol=\"Label\",handleInvalid=\"keep\")\n",
    "#Create labels list to decode predictions \n",
    "resultLabels= label_idx.fit(dat).labels\n",
    "riskLabels=risk_idx.fit(dat).labels\n",
    "riskLabels"
   ]
  },
  {
   "cell_type": "code",
   "execution_count": 41,
   "metadata": {},
   "outputs": [],
   "source": [
    "#create a  a single vector combining all input features\n",
    "from pyspark.ml.feature import VectorAssembler\n",
    "va = VectorAssembler(inputCols=['Label'],outputCol=\"features\") "
   ]
  },
  {
   "cell_type": "code",
   "execution_count": 42,
   "metadata": {},
   "outputs": [
    {
     "name": "stdout",
     "output_type": "stream",
     "text": [
      "119401\n",
      "51369\n"
     ]
    }
   ],
   "source": [
    "train_df,test_df=dat.randomSplit([0.7,0.3])\n",
    "print(train_df.count()) \n",
    "print(test_df.count())\n"
   ]
  },
  {
   "cell_type": "code",
   "execution_count": 44,
   "metadata": {
    "scrolled": true
   },
   "outputs": [
    {
     "name": "stdout",
     "output_type": "stream",
     "text": [
      "+--------------------+-----+----------+------------------+--------------+\n",
      "|            DBA Name|Label|prediction|           Results|predictedLabel|\n",
      "+--------------------+-----+----------+------------------+--------------+\n",
      "|       #1 WOK N ROLL|  1.0|       0.0|              Fail|          Pass|\n",
      "|1,200 SQ.FT. - YE...|  1.0|       0.0|              Fail|          Pass|\n",
      "|10 PIN  BOWLING L...|  1.0|       0.0|              Fail|          Pass|\n",
      "|    11 DEGREES NORTH|  2.0|       0.0|Pass w/ Conditions|          Pass|\n",
      "|           14 PARISH|  2.0|       0.0|Pass w/ Conditions|          Pass|\n",
      "|1492 CUBAN FUSION...|  2.0|       0.0|Pass w/ Conditions|          Pass|\n",
      "|        1800 LIQUORS|  1.0|       0.0|              Fail|          Pass|\n",
      "|24/7 EXPRESS FOOD...|  1.0|       0.0|              Fail|          Pass|\n",
      "|          25 DEGREES|  2.0|       0.0|Pass w/ Conditions|          Pass|\n",
      "|            3 ABEJAS|  1.0|       0.0|              Fail|          Pass|\n",
      "|3 JJJ'S BETTER TA...|  1.0|       0.0|              Fail|          Pass|\n",
      "|3 JJJ'S BETTER TA...|  1.0|       0.0|              Fail|          Pass|\n",
      "|           3 SQUARES|  1.0|       0.0|              Fail|          Pass|\n",
      "|     312 BEER GARDEN|  1.0|       0.0|              Fail|          Pass|\n",
      "|          4 BANDERAS|  2.0|       0.0|Pass w/ Conditions|          Pass|\n",
      "|          4 BANDERAS|  1.0|       0.0|              Fail|          Pass|\n",
      "|       42 N LATITUDE|  2.0|       0.0|Pass w/ Conditions|          Pass|\n",
      "|            437 RUSH|  1.0|       0.0|              Fail|          Pass|\n",
      "|    5 RABANITOS, INC|  2.0|       0.0|Pass w/ Conditions|          Pass|\n",
      "|5 STARS MINI MART...|  1.0|       0.0|              Fail|          Pass|\n",
      "+--------------------+-----+----------+------------------+--------------+\n",
      "only showing top 20 rows\n",
      "\n",
      "Accuracy: 61.99264147637681 %\n"
     ]
    }
   ],
   "source": [
    "from pyspark.ml.classification import DecisionTreeClassifier, DecisionTreeClassificationModel\n",
    "from pyspark.ml.pipeline import Pipeline\n",
    "from pyspark.ml.evaluation import MulticlassClassificationEvaluator\n",
    "dt= DecisionTreeClassifier(labelCol=\"Risk_idx\", featuresCol=\"features\")\n",
    "lc = IndexToString(inputCol=\"prediction\",outputCol=\"predictedLabel\",labels=resultLabels)\n",
    "dt_pipeline = Pipeline(stages=[label_idx,risk_idx,va,dt,lc])\n",
    "dtModel =dt_pipeline.fit(train_df) \n",
    "resultDF = dtModel.transform(test_df)\n",
    "#Look for observations where prediction did not match\n",
    "resultDF.filter(\"Label != prediction\").select( \"DBA Name\",\"Label\",\"prediction\",\"Results\",\"predictedLabel\").show() \n",
    "# Calculation of the accuracy of our classifier\n",
    "predictionAndLabels = resultDF.select(\"prediction\", \"label\") \n",
    "evaluator = MulticlassClassificationEvaluator().setMetricName(\"accuracy\")\n",
    "print (\"Accuracy:\",(evaluator.evaluate(predictionAndLabels))*100,\"%\")\n"
   ]
  },
  {
   "cell_type": "code",
   "execution_count": 19,
   "metadata": {},
   "outputs": [
    {
     "name": "stdout",
     "output_type": "stream",
     "text": [
      "+--------------------+-----+------------------+----------+--------------+\n",
      "|            DBA Name|Label|           Results|prediction|predictedLabel|\n",
      "+--------------------+-----+------------------+----------+--------------+\n",
      "|1,200 SQ.FT. - YE...|  1.0|              Fail|       0.0|          Pass|\n",
      "|10 PIN  BOWLING L...|  1.0|              Fail|       0.0|          Pass|\n",
      "|1000 LIQUORS / BI...|  2.0|Pass w/ Conditions|       0.0|          Pass|\n",
      "|      11 DINING, LLC|  2.0|Pass w/ Conditions|       0.0|          Pass|\n",
      "|        1800 LIQUORS|  1.0|              Fail|       0.0|          Pass|\n",
      "|24 HRS GYROS & SU...|  1.0|              Fail|       0.0|          Pass|\n",
      "|          25 DEGREES|  2.0|Pass w/ Conditions|       0.0|          Pass|\n",
      "|3 JJJ'S BETTER TA...|  1.0|              Fail|       0.0|          Pass|\n",
      "|          4 BANDERAS|  1.0|              Fail|       0.0|          Pass|\n",
      "|          4 BANDERAS|  2.0|Pass w/ Conditions|       0.0|          Pass|\n",
      "|5 STARS MINI MART...|  1.0|              Fail|       0.0|          Pass|\n",
      "|50/50 FOOD MART, ...|  1.0|              Fail|       0.0|          Pass|\n",
      "|500 DEGRESS SOUL ...|  1.0|              Fail|       0.0|          Pass|\n",
      "|5077 KIKO MEAT MA...|  2.0|Pass w/ Conditions|       0.0|          Pass|\n",
      "|    54 FOOD & LIQUOR|  1.0|              Fail|       0.0|          Pass|\n",
      "|      5411 EMPANADAS|  1.0|              Fail|       0.0|          Pass|\n",
      "|      5411 EMPANADAS|  1.0|              Fail|       0.0|          Pass|\n",
      "|        55TH MAXWELL|  1.0|              Fail|       0.0|          Pass|\n",
      "|          623 Wabash|  1.0|              Fail|       0.0|          Pass|\n",
      "|  63RD FOOD & LIQUOR|  1.0|              Fail|       0.0|          Pass|\n",
      "+--------------------+-----+------------------+----------+--------------+\n",
      "only showing top 20 rows\n",
      "\n",
      "Accuracy: 62.18964709556527 %\n"
     ]
    }
   ],
   "source": [
    "#Random Forest Classifier\n",
    "from pyspark.ml.classification import RandomForestClassifier\n",
    "from pyspark.ml.evaluation import MulticlassClassificationEvaluator,BinaryClassificationEvaluator\n",
    "rf = RandomForestClassifier(labelCol=\"Risk_idx\", featuresCol=\"features\",numTrees=50) # Train 50 decision trees on data\n",
    "rf_pipeline = Pipeline(stages=[risk_idx, label_idx,va,dt,lc]) \n",
    "rfResultDF = rf_pipeline.fit(train_df).transform(test_df) \n",
    "rfResultDF.filter(\"Label != prediction\").select(\"DBA Name\",\"Label\",\"Results\",\"prediction\",\"predictedLabel\").show()\n",
    "predictionAndLabels = rfResultDF.select(\"prediction\", \"label\") \n",
    "evaluator = MulticlassClassificationEvaluator().setMetricName(\"accuracy\") \n",
    "print (\"Accuracy:\",(evaluator.evaluate(predictionAndLabels))*100,\"%\")\n"
   ]
  }
 ],
 "metadata": {
  "kernelspec": {
   "display_name": "Python 3",
   "language": "python",
   "name": "python3"
  },
  "language_info": {
   "codemirror_mode": {
    "name": "ipython",
    "version": 3
   },
   "file_extension": ".py",
   "mimetype": "text/x-python",
   "name": "python",
   "nbconvert_exporter": "python",
   "pygments_lexer": "ipython3",
   "version": "3.7.1"
  }
 },
 "nbformat": 4,
 "nbformat_minor": 2
}
