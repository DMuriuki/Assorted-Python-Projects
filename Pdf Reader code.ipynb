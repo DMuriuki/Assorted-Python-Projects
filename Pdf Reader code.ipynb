{
 "cells": [
  {
   "cell_type": "code",
   "execution_count": 8,
   "metadata": {},
   "outputs": [
    {
     "name": "stdout",
     "output_type": "stream",
     "text": [
      "306\n"
     ]
    }
   ],
   "source": [
    "#Collecting Data from PDFs\n",
    "import PyPDF2\n",
    "from PyPDF2 import PdfFileReader\n",
    "#Creating PDF file object\n",
    "pdf=open('Web Scraping with Python, 2nd Edition.pdf','rb')\n",
    "#Creating pdf reader object\n",
    "pdf_reader=PyPDF2.PdfFileReader(pdf)\n",
    "#Checking number of pages in a pdf file\n",
    "print(pdf_reader.numPages)"
   ]
  },
  {
   "cell_type": "code",
   "execution_count": 10,
   "metadata": {},
   "outputs": [
    {
     "name": "stdout",
     "output_type": "stream",
     "text": [
      "Figure 12-1. \n",
      "•e\n",
      " Chrome network inspector tool provides a view into all calls your\n",
      "browser is making and receiving\n",
      "Note that you need to open this window before the page loads. It does not track net‡\n",
      "work calls while it†s closed.\n",
      "While the page is loading, you†ll see a line appear in real time whenever your browser\n",
      "makes a call back to the web server for additional information to render the page.\n",
      "This may include an API call.\n",
      "Finding undocumented APIs can take a little detective work (to take the detective\n",
      "work out of this, see \n",
      "…Finding and Documenting APIs Automatically— on page \n",
      "184\n",
      "),\n",
      "especially with larger sites with lots of network calls. Generally, though, you†ll know it\n",
      "when you see it.\n",
      "API calls tend to have several features that are useful for locating them in the list of\n",
      "network calls:\n",
      "ƒ\n",
      "They often have JSON or XML in them. You can filter the list of requests by using\n",
      "the search/filter field.\n",
      "ƒ\n",
      "With \n",
      "GET\n",
      " requests, the URL will contain the parameter values passed to them.\n",
      "This will be useful if, for example, you†re looking for an API call that returns the\n",
      "results of a search or is loading data for a specific page. Simply filter the results\n",
      "with the search term you used, page ID, or other identifying information.\n",
      "ƒ\n",
      "They will usually be of the type XHR.\n",
      "APIs may not always be obvious, especially in large sites with lots of features that may\n",
      "make hundreds of calls while loading a single page. However, spotting the metaphori‡\n",
      "cal needle in the haystack becomes much easier with a little practice.\n",
      "Undocumented APIs | 183\n",
      "\n"
     ]
    }
   ],
   "source": [
    "#Creating a page object\n",
    "pg=pdf_reader.getPage(200)\n",
    "#Extracting text from the 200th page\n",
    "print(pg.extractText())"
   ]
  },
  {
   "cell_type": "code",
   "execution_count": null,
   "metadata": {},
   "outputs": [],
   "source": []
  }
 ],
 "metadata": {
  "kernelspec": {
   "display_name": "Python 3",
   "language": "python",
   "name": "python3"
  },
  "language_info": {
   "codemirror_mode": {
    "name": "ipython",
    "version": 3
   },
   "file_extension": ".py",
   "mimetype": "text/x-python",
   "name": "python",
   "nbconvert_exporter": "python",
   "pygments_lexer": "ipython3",
   "version": "3.7.1"
  }
 },
 "nbformat": 4,
 "nbformat_minor": 2
}
