{
 "cells": [
  {
   "cell_type": "code",
   "execution_count": 1,
   "metadata": {},
   "outputs": [
    {
     "name": "stdout",
     "output_type": "stream",
     "text": [
      "306\n"
     ]
    }
   ],
   "source": [
    "#Collecting Data from PDFs\n",
    "import PyPDF2\n",
    "from PyPDF2 import PdfFileReader\n",
    "#Creating PDF file object\n",
    "pdf=open('Web Scraping with Python, 2nd Edition.pdf','rb')\n",
    "#Creating pdf reader object\n",
    "pdf_reader=PyPDF2.PdfFileReader(pdf)\n",
    "#Checking number of pages in a pdf file\n",
    "print(pdf_reader.numPages)"
   ]
  },
  {
   "cell_type": "code",
   "execution_count": 6,
   "metadata": {},
   "outputs": [
    {
     "name": "stdout",
     "output_type": "stream",
     "text": [
      "Preface\n",
      "To those who have not developed the skill, computer programming can seem like a\n",
      "kind of magic. If programming is magic, \n",
      "web scraping\n",
      " is wizardry: the application of\n",
      "magic for particularly impressive and useful–yet surprisingly effortless–feats.\n",
      "In my years as a software engineer, I†ve found that few programming practices cap‡\n",
      "ture the excitement of both programmers and laymen alike quite like web scraping.\n",
      "The ability to write a simple bot that collects data and streams it down a terminal or\n",
      "stores it in a database, while not difficult, never fails to provide a certain thrill and\n",
      "sense of possibility, no matter how many times you might have done it before.\n",
      "Unfortunately, when I speak to other programmers about web scraping, there†s a lot\n",
      "of misunderstanding and confusion about the practice. Some people aren†t sure it†s\n",
      "legal (it is), or how to handle problems like JavaScript-heavy pages or required logins.\n",
      "Many are confused about how to start a large web scraping project, or even where to\n",
      "find the data they†re looking for. This book seeks to put an end to many of these com‡\n",
      "mon questions and misconceptions about web scraping, while providing a compre‡\n",
      "hensive guide to most common web scraping tasks.\n",
      "Web scraping is a diverse and fast-changing field, and I†ve tried to provide both high-\n",
      "level concepts and concrete examples to cover just about any data collection project\n",
      "you†re likely to encounter. Throughout the book, code samples are provided to\n",
      "demonstrate these concepts and allow you to try them out. The code samples them‡\n",
      "selves can be used and modified with or without attribution (although acknowledg‡\n",
      "ment is always appreciated). All code samples are available on \n",
      "GitHub\n",
      " for viewing\n",
      "and downloading.\n",
      "What Is Web Scraping?\n",
      "The automated gathering of data from the internet is nearly as old as the internet\n",
      "itself. Although \n",
      "web scraping\n",
      " is not a new term, in years past the practice has been\n",
      "more commonly known as \n",
      "screen scraping\n",
      ", \n",
      "data mining\n",
      ", \n",
      "web harvesting\n",
      ", or similar\n",
      "ix\n",
      "\n"
     ]
    }
   ],
   "source": [
    "#Creating a page object\n",
    "pg=pdf_reader.getPage(10)\n",
    "#Extracting text from the 10th page\n",
    "print(pg.extractText())"
   ]
  },
  {
   "cell_type": "code",
   "execution_count": null,
   "metadata": {},
   "outputs": [],
   "source": []
  }
 ],
 "metadata": {
  "kernelspec": {
   "display_name": "Python 3",
   "language": "python",
   "name": "python3"
  },
  "language_info": {
   "codemirror_mode": {
    "name": "ipython",
    "version": 3
   },
   "file_extension": ".py",
   "mimetype": "text/x-python",
   "name": "python",
   "nbconvert_exporter": "python",
   "pygments_lexer": "ipython3",
   "version": "3.7.1"
  }
 },
 "nbformat": 4,
 "nbformat_minor": 2
}
